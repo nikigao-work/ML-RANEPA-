{
 "cells": [
  {
   "cell_type": "code",
   "execution_count": 1,
   "metadata": {},
   "outputs": [],
   "source": [
    "# Внимание!!! Важно, что бы файлы с данными и исполняемый файл находились в одной папке, \n",
    "# тогда пути к тестовым и тренировочным наборам будут содержать только имена файлов.\n",
    "# \n",
    "# В пути к тренировочным и тестовым данным запрежается использовать абсалютную адресацию, \n",
    "# то есть адресацию, в которой присутствуют имена папок. Путь должен содержать только имя файла.\n",
    "#\n",
    "# Напоминание: под моделью машинного обучения понимаются все действия с исходными данными, \n",
    "# которые необходимо произвести, что бы сопоставить признаки целевому значению."
   ]
  },
  {
   "cell_type": "markdown",
   "metadata": {},
   "source": [
    "### Область работы 1 (библиотеки)"
   ]
  },
  {
   "cell_type": "code",
   "execution_count": 2,
   "metadata": {},
   "outputs": [],
   "source": [
    "# Данный блок в области 1 выполняется преподавателем\n",
    "# \n",
    "# данный блок предназначен только для подключения необходимых библиотек\n",
    "# запрещается подключать библиотеки в других блоках\n",
    "# запрещается скрывать предупреждения системы\n",
    "# установка дополнительных библиотек размещается прямо здесь (обязательно закоментированы)\n",
    "# pip install tqdm"
   ]
  },
  {
   "cell_type": "code",
   "execution_count": 3,
   "metadata": {},
   "outputs": [],
   "source": [
    "import numpy as np\n",
    "import pandas as pd\n",
    "import matplotlib.pyplot as plt\n",
    "import seaborn as sns\n",
    "\n",
    "from sklearn.model_selection import train_test_split, GridSearchCV, cross_val_score, KFold\n",
    "from sklearn.pipeline import Pipeline, make_pipeline\n",
    "from sklearn.preprocessing import OrdinalEncoder,LabelEncoder, OneHotEncoder, PolynomialFeatures, MinMaxScaler,StandardScaler, RobustScaler, Normalizer, QuantileTransformer, PowerTransformer, SplineTransformer\n",
    "from sklearn.linear_model import LogisticRegression, BayesianRidge, Ridge, Lasso \n",
    "from sklearn.compose import make_column_transformer, make_column_selector, ColumnTransformer, TransformedTargetRegressor\n",
    "from sklearn.metrics import mean_absolute_percentage_error, make_scorer\n",
    "from sklearn.impute import SimpleImputer, KNNImputer\n",
    "from sklearn.neighbors import KNeighborsRegressor\n",
    "from sklearn.svm import SVR\n",
    "\n",
    "import category_encoders as ce\n",
    "\n",
    "from tqdm import tqdm"
   ]
  },
  {
   "cell_type": "markdown",
   "metadata": {},
   "source": [
    "### Область работы 2 (выполнение лучшей модели)"
   ]
  },
  {
   "cell_type": "code",
   "execution_count": 4,
   "metadata": {},
   "outputs": [],
   "source": [
    "# Данный блок(и) в области 2 выполняется преподавателем\n",
    "#\n",
    "# В области находится одна, единственная, итоговая модель машинного обучения с однозначными, \n",
    "# зафиксированными параметрами\n",
    "#\n",
    "# В данной области категорически запрещается искать, выбирать, улучшать, оптимизировать, \n",
    "# тюниговать и т.д. модель машинного обучения"
   ]
  },
  {
   "cell_type": "code",
   "execution_count": 5,
   "metadata": {},
   "outputs": [],
   "source": [
    "# Путь к тренировочному набору\n",
    "path_train = 'train.csv' # содержит только имя файла, без имен папок\n",
    "# Путь к тестовому набору\n",
    "path_test  = 'test.csv' # содержит только имя файла, без имен папок"
   ]
  },
  {
   "cell_type": "code",
   "execution_count": 6,
   "metadata": {},
   "outputs": [],
   "source": [
    "# Блок(и) обучения и поверки модели"
   ]
  },
  {
   "cell_type": "code",
   "execution_count": 7,
   "metadata": {},
   "outputs": [],
   "source": [
    "df_train = pd.read_csv(path_train)\n",
    "df_test = pd.read_csv(path_test)"
   ]
  },
  {
   "cell_type": "markdown",
   "metadata": {},
   "source": [
    "### Проверка на дупликаты"
   ]
  },
  {
   "cell_type": "code",
   "execution_count": 8,
   "metadata": {},
   "outputs": [
    {
     "data": {
      "text/plain": [
       "192"
      ]
     },
     "metadata": {},
     "output_type": "display_data"
    },
    {
     "data": {
      "text/plain": [
       "0"
      ]
     },
     "metadata": {},
     "output_type": "display_data"
    }
   ],
   "source": [
    "display(len(df_train) - len(df_train.drop_duplicates()))\n",
    "df_train.drop_duplicates(inplace=True)\n",
    "display(len(df_train) - len(df_train.drop_duplicates()))"
   ]
  },
  {
   "cell_type": "markdown",
   "metadata": {},
   "source": [
    "### Удаление выбросов"
   ]
  },
  {
   "cell_type": "code",
   "execution_count": 9,
   "metadata": {},
   "outputs": [
    {
     "data": {
      "text/plain": [
       "(67406, 12)"
      ]
     },
     "metadata": {},
     "output_type": "display_data"
    },
    {
     "data": {
      "text/plain": [
       "(61946, 12)"
      ]
     },
     "metadata": {},
     "output_type": "display_data"
    }
   ],
   "source": [
    "set_index_for_drop = set()\n",
    "for column in df_train.columns[6:-1]:\n",
    "    Q1 = df_train[column].quantile(0.25)\n",
    "    Q3 = df_train[column].quantile(0.75)\n",
    "    IQR = Q3 - Q1\n",
    "    indexes = list(df_train[(df_train[column] < Q1-1.5*IQR ) | (df_train[column] > Q3+1.5*IQR)].index)\n",
    "    set_index_for_drop.update(indexes)\n",
    "\n",
    "display(df_train.shape)\n",
    "df_not_outliers = df_train.drop(index=set_index_for_drop).copy()\n",
    "display(df_not_outliers.shape)"
   ]
  },
  {
   "cell_type": "code",
   "execution_count": 10,
   "metadata": {},
   "outputs": [],
   "source": [
    "#Разделяем на X и y\n",
    "X, y = df_not_outliers.drop(columns=['total_sales_price']), df_not_outliers['total_sales_price']"
   ]
  },
  {
   "cell_type": "markdown",
   "metadata": {},
   "source": [
    "# Конструируем трансформер для предсказания нашей целевой переменной ('total_sales_price')"
   ]
  },
  {
   "cell_type": "code",
   "execution_count": 11,
   "metadata": {},
   "outputs": [],
   "source": [
    "axis_transformer = Pipeline(steps=[\n",
    "    ('polynom', PolynomialFeatures(3,include_bias=False)),\n",
    "    ('scaler', MinMaxScaler())])\n",
    "\n",
    "missing = make_column_transformer(\n",
    "    (KNNImputer(missing_values=0, n_neighbors=3, weights=\"uniform\"), ['size', 'depth_percent', 'table_percent', 'meas_length','meas_width','meas_depth']),\n",
    "    remainder='passthrough'\n",
    "     ).set_output(transform='pandas')\n",
    "\n",
    "axis_features = ['knnimputer__meas_length', 'knnimputer__meas_width', 'knnimputer__meas_depth']\n",
    "num_features = ['knnimputer__size','knnimputer__depth_percent','knnimputer__table_percent']\n",
    "ct = ColumnTransformer([\n",
    "    (\"pol_std\", axis_transformer, axis_features),\n",
    "      ('scale', Normalizer(), num_features),\n",
    "      ('onehot',\n",
    "      OneHotEncoder(),\n",
    "      make_column_selector(dtype_include='object'))\n",
    "])\n",
    "\n",
    "\n",
    "model_pipe_with_transformed_Y = TransformedTargetRegressor(\n",
    "    regressor = Pipeline([\n",
    "        ('missing', missing),\n",
    "        ('preprocessing', ct),\n",
    "        ('estimator', KNeighborsRegressor(n_neighbors=6, p=2, leaf_size=5, weights='distance'))\n",
    "    ]),\n",
    "    transformer=PowerTransformer(method='box-cox')\n",
    ")"
   ]
  },
  {
   "cell_type": "markdown",
   "metadata": {},
   "source": [
    "### Fit and predict target variable with best model"
   ]
  },
  {
   "cell_type": "code",
   "execution_count": 12,
   "metadata": {},
   "outputs": [
    {
     "data": {
      "text/html": [
       "<style>#sk-container-id-1 {color: black;}#sk-container-id-1 pre{padding: 0;}#sk-container-id-1 div.sk-toggleable {background-color: white;}#sk-container-id-1 label.sk-toggleable__label {cursor: pointer;display: block;width: 100%;margin-bottom: 0;padding: 0.3em;box-sizing: border-box;text-align: center;}#sk-container-id-1 label.sk-toggleable__label-arrow:before {content: \"▸\";float: left;margin-right: 0.25em;color: #696969;}#sk-container-id-1 label.sk-toggleable__label-arrow:hover:before {color: black;}#sk-container-id-1 div.sk-estimator:hover label.sk-toggleable__label-arrow:before {color: black;}#sk-container-id-1 div.sk-toggleable__content {max-height: 0;max-width: 0;overflow: hidden;text-align: left;background-color: #f0f8ff;}#sk-container-id-1 div.sk-toggleable__content pre {margin: 0.2em;color: black;border-radius: 0.25em;background-color: #f0f8ff;}#sk-container-id-1 input.sk-toggleable__control:checked~div.sk-toggleable__content {max-height: 200px;max-width: 100%;overflow: auto;}#sk-container-id-1 input.sk-toggleable__control:checked~label.sk-toggleable__label-arrow:before {content: \"▾\";}#sk-container-id-1 div.sk-estimator input.sk-toggleable__control:checked~label.sk-toggleable__label {background-color: #d4ebff;}#sk-container-id-1 div.sk-label input.sk-toggleable__control:checked~label.sk-toggleable__label {background-color: #d4ebff;}#sk-container-id-1 input.sk-hidden--visually {border: 0;clip: rect(1px 1px 1px 1px);clip: rect(1px, 1px, 1px, 1px);height: 1px;margin: -1px;overflow: hidden;padding: 0;position: absolute;width: 1px;}#sk-container-id-1 div.sk-estimator {font-family: monospace;background-color: #f0f8ff;border: 1px dotted black;border-radius: 0.25em;box-sizing: border-box;margin-bottom: 0.5em;}#sk-container-id-1 div.sk-estimator:hover {background-color: #d4ebff;}#sk-container-id-1 div.sk-parallel-item::after {content: \"\";width: 100%;border-bottom: 1px solid gray;flex-grow: 1;}#sk-container-id-1 div.sk-label:hover label.sk-toggleable__label {background-color: #d4ebff;}#sk-container-id-1 div.sk-serial::before {content: \"\";position: absolute;border-left: 1px solid gray;box-sizing: border-box;top: 0;bottom: 0;left: 50%;z-index: 0;}#sk-container-id-1 div.sk-serial {display: flex;flex-direction: column;align-items: center;background-color: white;padding-right: 0.2em;padding-left: 0.2em;position: relative;}#sk-container-id-1 div.sk-item {position: relative;z-index: 1;}#sk-container-id-1 div.sk-parallel {display: flex;align-items: stretch;justify-content: center;background-color: white;position: relative;}#sk-container-id-1 div.sk-item::before, #sk-container-id-1 div.sk-parallel-item::before {content: \"\";position: absolute;border-left: 1px solid gray;box-sizing: border-box;top: 0;bottom: 0;left: 50%;z-index: -1;}#sk-container-id-1 div.sk-parallel-item {display: flex;flex-direction: column;z-index: 1;position: relative;background-color: white;}#sk-container-id-1 div.sk-parallel-item:first-child::after {align-self: flex-end;width: 50%;}#sk-container-id-1 div.sk-parallel-item:last-child::after {align-self: flex-start;width: 50%;}#sk-container-id-1 div.sk-parallel-item:only-child::after {width: 0;}#sk-container-id-1 div.sk-dashed-wrapped {border: 1px dashed gray;margin: 0 0.4em 0.5em 0.4em;box-sizing: border-box;padding-bottom: 0.4em;background-color: white;}#sk-container-id-1 div.sk-label label {font-family: monospace;font-weight: bold;display: inline-block;line-height: 1.2em;}#sk-container-id-1 div.sk-label-container {text-align: center;}#sk-container-id-1 div.sk-container {/* jupyter's `normalize.less` sets `[hidden] { display: none; }` but bootstrap.min.css set `[hidden] { display: none !important; }` so we also need the `!important` here to be able to override the default hidden behavior on the sphinx rendered scikit-learn.org. See: https://github.com/scikit-learn/scikit-learn/issues/21755 */display: inline-block !important;position: relative;}#sk-container-id-1 div.sk-text-repr-fallback {display: none;}</style><div id=\"sk-container-id-1\" class=\"sk-top-container\"><div class=\"sk-text-repr-fallback\"><pre>TransformedTargetRegressor(regressor=Pipeline(steps=[(&#x27;missing&#x27;,\n",
       "                                                      ColumnTransformer(remainder=&#x27;passthrough&#x27;,\n",
       "                                                                        transformers=[(&#x27;knnimputer&#x27;,\n",
       "                                                                                       KNNImputer(missing_values=0,\n",
       "                                                                                                  n_neighbors=3),\n",
       "                                                                                       [&#x27;size&#x27;,\n",
       "                                                                                        &#x27;depth_percent&#x27;,\n",
       "                                                                                        &#x27;table_percent&#x27;,\n",
       "                                                                                        &#x27;meas_length&#x27;,\n",
       "                                                                                        &#x27;meas_width&#x27;,\n",
       "                                                                                        &#x27;meas_depth&#x27;])])),\n",
       "                                                     (&#x27;preprocessing&#x27;,\n",
       "                                                      ColumnTransformer(transformers=[(&#x27;pol_std&#x27;,\n",
       "                                                                                       Pipeline(steps=[(&#x27;polynom&#x27;,\n",
       "                                                                                                        P...\n",
       "                                                                                        &#x27;knnimputer__meas_depth&#x27;]),\n",
       "                                                                                      (&#x27;scale&#x27;,\n",
       "                                                                                       Normalizer(),\n",
       "                                                                                       [&#x27;knnimputer__size&#x27;,\n",
       "                                                                                        &#x27;knnimputer__depth_percent&#x27;,\n",
       "                                                                                        &#x27;knnimputer__table_percent&#x27;]),\n",
       "                                                                                      (&#x27;onehot&#x27;,\n",
       "                                                                                       OneHotEncoder(),\n",
       "                                                                                       &lt;sklearn.compose._column_transformer.make_column_selector object at 0x0000022674E862E0&gt;)])),\n",
       "                                                     (&#x27;estimator&#x27;,\n",
       "                                                      KNeighborsRegressor(leaf_size=5,\n",
       "                                                                          n_neighbors=6,\n",
       "                                                                          weights=&#x27;distance&#x27;))]),\n",
       "                           transformer=PowerTransformer(method=&#x27;box-cox&#x27;))</pre><b>In a Jupyter environment, please rerun this cell to show the HTML representation or trust the notebook. <br />On GitHub, the HTML representation is unable to render, please try loading this page with nbviewer.org.</b></div><div class=\"sk-container\" hidden><div class=\"sk-item sk-dashed-wrapped\"><div class=\"sk-label-container\"><div class=\"sk-label sk-toggleable\"><input class=\"sk-toggleable__control sk-hidden--visually\" id=\"sk-estimator-id-1\" type=\"checkbox\" ><label for=\"sk-estimator-id-1\" class=\"sk-toggleable__label sk-toggleable__label-arrow\">TransformedTargetRegressor</label><div class=\"sk-toggleable__content\"><pre>TransformedTargetRegressor(regressor=Pipeline(steps=[(&#x27;missing&#x27;,\n",
       "                                                      ColumnTransformer(remainder=&#x27;passthrough&#x27;,\n",
       "                                                                        transformers=[(&#x27;knnimputer&#x27;,\n",
       "                                                                                       KNNImputer(missing_values=0,\n",
       "                                                                                                  n_neighbors=3),\n",
       "                                                                                       [&#x27;size&#x27;,\n",
       "                                                                                        &#x27;depth_percent&#x27;,\n",
       "                                                                                        &#x27;table_percent&#x27;,\n",
       "                                                                                        &#x27;meas_length&#x27;,\n",
       "                                                                                        &#x27;meas_width&#x27;,\n",
       "                                                                                        &#x27;meas_depth&#x27;])])),\n",
       "                                                     (&#x27;preprocessing&#x27;,\n",
       "                                                      ColumnTransformer(transformers=[(&#x27;pol_std&#x27;,\n",
       "                                                                                       Pipeline(steps=[(&#x27;polynom&#x27;,\n",
       "                                                                                                        P...\n",
       "                                                                                        &#x27;knnimputer__meas_depth&#x27;]),\n",
       "                                                                                      (&#x27;scale&#x27;,\n",
       "                                                                                       Normalizer(),\n",
       "                                                                                       [&#x27;knnimputer__size&#x27;,\n",
       "                                                                                        &#x27;knnimputer__depth_percent&#x27;,\n",
       "                                                                                        &#x27;knnimputer__table_percent&#x27;]),\n",
       "                                                                                      (&#x27;onehot&#x27;,\n",
       "                                                                                       OneHotEncoder(),\n",
       "                                                                                       &lt;sklearn.compose._column_transformer.make_column_selector object at 0x0000022674E862E0&gt;)])),\n",
       "                                                     (&#x27;estimator&#x27;,\n",
       "                                                      KNeighborsRegressor(leaf_size=5,\n",
       "                                                                          n_neighbors=6,\n",
       "                                                                          weights=&#x27;distance&#x27;))]),\n",
       "                           transformer=PowerTransformer(method=&#x27;box-cox&#x27;))</pre></div></div></div><div class=\"sk-parallel\"><div class=\"sk-parallel-item\"><div class=\"sk-item\"><div class=\"sk-label-container\"><div class=\"sk-label sk-toggleable\"><input class=\"sk-toggleable__control sk-hidden--visually\" id=\"sk-estimator-id-2\" type=\"checkbox\" ><label for=\"sk-estimator-id-2\" class=\"sk-toggleable__label sk-toggleable__label-arrow\">regressor: Pipeline</label><div class=\"sk-toggleable__content\"><pre>Pipeline(steps=[(&#x27;missing&#x27;,\n",
       "                 ColumnTransformer(remainder=&#x27;passthrough&#x27;,\n",
       "                                   transformers=[(&#x27;knnimputer&#x27;,\n",
       "                                                  KNNImputer(missing_values=0,\n",
       "                                                             n_neighbors=3),\n",
       "                                                  [&#x27;size&#x27;, &#x27;depth_percent&#x27;,\n",
       "                                                   &#x27;table_percent&#x27;,\n",
       "                                                   &#x27;meas_length&#x27;, &#x27;meas_width&#x27;,\n",
       "                                                   &#x27;meas_depth&#x27;])])),\n",
       "                (&#x27;preprocessing&#x27;,\n",
       "                 ColumnTransformer(transformers=[(&#x27;pol_std&#x27;,\n",
       "                                                  Pipeline(steps=[(&#x27;polynom&#x27;,\n",
       "                                                                   PolynomialFeatures(degree=3,\n",
       "                                                                                      include_bi...\n",
       "                                                  [&#x27;knnimputer__meas_length&#x27;,\n",
       "                                                   &#x27;knnimputer__meas_width&#x27;,\n",
       "                                                   &#x27;knnimputer__meas_depth&#x27;]),\n",
       "                                                 (&#x27;scale&#x27;, Normalizer(),\n",
       "                                                  [&#x27;knnimputer__size&#x27;,\n",
       "                                                   &#x27;knnimputer__depth_percent&#x27;,\n",
       "                                                   &#x27;knnimputer__table_percent&#x27;]),\n",
       "                                                 (&#x27;onehot&#x27;, OneHotEncoder(),\n",
       "                                                  &lt;sklearn.compose._column_transformer.make_column_selector object at 0x0000022674E862E0&gt;)])),\n",
       "                (&#x27;estimator&#x27;,\n",
       "                 KNeighborsRegressor(leaf_size=5, n_neighbors=6,\n",
       "                                     weights=&#x27;distance&#x27;))])</pre></div></div></div><div class=\"sk-serial\"><div class=\"sk-item\"><div class=\"sk-serial\"><div class=\"sk-item sk-dashed-wrapped\"><div class=\"sk-label-container\"><div class=\"sk-label sk-toggleable\"><input class=\"sk-toggleable__control sk-hidden--visually\" id=\"sk-estimator-id-3\" type=\"checkbox\" ><label for=\"sk-estimator-id-3\" class=\"sk-toggleable__label sk-toggleable__label-arrow\">missing: ColumnTransformer</label><div class=\"sk-toggleable__content\"><pre>ColumnTransformer(remainder=&#x27;passthrough&#x27;,\n",
       "                  transformers=[(&#x27;knnimputer&#x27;,\n",
       "                                 KNNImputer(missing_values=0, n_neighbors=3),\n",
       "                                 [&#x27;size&#x27;, &#x27;depth_percent&#x27;, &#x27;table_percent&#x27;,\n",
       "                                  &#x27;meas_length&#x27;, &#x27;meas_width&#x27;, &#x27;meas_depth&#x27;])])</pre></div></div></div><div class=\"sk-parallel\"><div class=\"sk-parallel-item\"><div class=\"sk-item\"><div class=\"sk-label-container\"><div class=\"sk-label sk-toggleable\"><input class=\"sk-toggleable__control sk-hidden--visually\" id=\"sk-estimator-id-4\" type=\"checkbox\" ><label for=\"sk-estimator-id-4\" class=\"sk-toggleable__label sk-toggleable__label-arrow\">knnimputer</label><div class=\"sk-toggleable__content\"><pre>[&#x27;size&#x27;, &#x27;depth_percent&#x27;, &#x27;table_percent&#x27;, &#x27;meas_length&#x27;, &#x27;meas_width&#x27;, &#x27;meas_depth&#x27;]</pre></div></div></div><div class=\"sk-serial\"><div class=\"sk-item\"><div class=\"sk-estimator sk-toggleable\"><input class=\"sk-toggleable__control sk-hidden--visually\" id=\"sk-estimator-id-5\" type=\"checkbox\" ><label for=\"sk-estimator-id-5\" class=\"sk-toggleable__label sk-toggleable__label-arrow\">KNNImputer</label><div class=\"sk-toggleable__content\"><pre>KNNImputer(missing_values=0, n_neighbors=3)</pre></div></div></div></div></div></div><div class=\"sk-parallel-item\"><div class=\"sk-item\"><div class=\"sk-label-container\"><div class=\"sk-label sk-toggleable\"><input class=\"sk-toggleable__control sk-hidden--visually\" id=\"sk-estimator-id-6\" type=\"checkbox\" ><label for=\"sk-estimator-id-6\" class=\"sk-toggleable__label sk-toggleable__label-arrow\">remainder</label><div class=\"sk-toggleable__content\"><pre></pre></div></div></div><div class=\"sk-serial\"><div class=\"sk-item\"><div class=\"sk-estimator sk-toggleable\"><input class=\"sk-toggleable__control sk-hidden--visually\" id=\"sk-estimator-id-7\" type=\"checkbox\" ><label for=\"sk-estimator-id-7\" class=\"sk-toggleable__label sk-toggleable__label-arrow\">passthrough</label><div class=\"sk-toggleable__content\"><pre>passthrough</pre></div></div></div></div></div></div></div></div><div class=\"sk-item sk-dashed-wrapped\"><div class=\"sk-label-container\"><div class=\"sk-label sk-toggleable\"><input class=\"sk-toggleable__control sk-hidden--visually\" id=\"sk-estimator-id-8\" type=\"checkbox\" ><label for=\"sk-estimator-id-8\" class=\"sk-toggleable__label sk-toggleable__label-arrow\">preprocessing: ColumnTransformer</label><div class=\"sk-toggleable__content\"><pre>ColumnTransformer(transformers=[(&#x27;pol_std&#x27;,\n",
       "                                 Pipeline(steps=[(&#x27;polynom&#x27;,\n",
       "                                                  PolynomialFeatures(degree=3,\n",
       "                                                                     include_bias=False)),\n",
       "                                                 (&#x27;scaler&#x27;, MinMaxScaler())]),\n",
       "                                 [&#x27;knnimputer__meas_length&#x27;,\n",
       "                                  &#x27;knnimputer__meas_width&#x27;,\n",
       "                                  &#x27;knnimputer__meas_depth&#x27;]),\n",
       "                                (&#x27;scale&#x27;, Normalizer(),\n",
       "                                 [&#x27;knnimputer__size&#x27;,\n",
       "                                  &#x27;knnimputer__depth_percent&#x27;,\n",
       "                                  &#x27;knnimputer__table_percent&#x27;]),\n",
       "                                (&#x27;onehot&#x27;, OneHotEncoder(),\n",
       "                                 &lt;sklearn.compose._column_transformer.make_column_selector object at 0x0000022674E862E0&gt;)])</pre></div></div></div><div class=\"sk-parallel\"><div class=\"sk-parallel-item\"><div class=\"sk-item\"><div class=\"sk-label-container\"><div class=\"sk-label sk-toggleable\"><input class=\"sk-toggleable__control sk-hidden--visually\" id=\"sk-estimator-id-9\" type=\"checkbox\" ><label for=\"sk-estimator-id-9\" class=\"sk-toggleable__label sk-toggleable__label-arrow\">pol_std</label><div class=\"sk-toggleable__content\"><pre>[&#x27;knnimputer__meas_length&#x27;, &#x27;knnimputer__meas_width&#x27;, &#x27;knnimputer__meas_depth&#x27;]</pre></div></div></div><div class=\"sk-serial\"><div class=\"sk-item\"><div class=\"sk-serial\"><div class=\"sk-item\"><div class=\"sk-estimator sk-toggleable\"><input class=\"sk-toggleable__control sk-hidden--visually\" id=\"sk-estimator-id-10\" type=\"checkbox\" ><label for=\"sk-estimator-id-10\" class=\"sk-toggleable__label sk-toggleable__label-arrow\">PolynomialFeatures</label><div class=\"sk-toggleable__content\"><pre>PolynomialFeatures(degree=3, include_bias=False)</pre></div></div></div><div class=\"sk-item\"><div class=\"sk-estimator sk-toggleable\"><input class=\"sk-toggleable__control sk-hidden--visually\" id=\"sk-estimator-id-11\" type=\"checkbox\" ><label for=\"sk-estimator-id-11\" class=\"sk-toggleable__label sk-toggleable__label-arrow\">MinMaxScaler</label><div class=\"sk-toggleable__content\"><pre>MinMaxScaler()</pre></div></div></div></div></div></div></div></div><div class=\"sk-parallel-item\"><div class=\"sk-item\"><div class=\"sk-label-container\"><div class=\"sk-label sk-toggleable\"><input class=\"sk-toggleable__control sk-hidden--visually\" id=\"sk-estimator-id-12\" type=\"checkbox\" ><label for=\"sk-estimator-id-12\" class=\"sk-toggleable__label sk-toggleable__label-arrow\">scale</label><div class=\"sk-toggleable__content\"><pre>[&#x27;knnimputer__size&#x27;, &#x27;knnimputer__depth_percent&#x27;, &#x27;knnimputer__table_percent&#x27;]</pre></div></div></div><div class=\"sk-serial\"><div class=\"sk-item\"><div class=\"sk-estimator sk-toggleable\"><input class=\"sk-toggleable__control sk-hidden--visually\" id=\"sk-estimator-id-13\" type=\"checkbox\" ><label for=\"sk-estimator-id-13\" class=\"sk-toggleable__label sk-toggleable__label-arrow\">Normalizer</label><div class=\"sk-toggleable__content\"><pre>Normalizer()</pre></div></div></div></div></div></div><div class=\"sk-parallel-item\"><div class=\"sk-item\"><div class=\"sk-label-container\"><div class=\"sk-label sk-toggleable\"><input class=\"sk-toggleable__control sk-hidden--visually\" id=\"sk-estimator-id-14\" type=\"checkbox\" ><label for=\"sk-estimator-id-14\" class=\"sk-toggleable__label sk-toggleable__label-arrow\">onehot</label><div class=\"sk-toggleable__content\"><pre>&lt;sklearn.compose._column_transformer.make_column_selector object at 0x0000022674E862E0&gt;</pre></div></div></div><div class=\"sk-serial\"><div class=\"sk-item\"><div class=\"sk-estimator sk-toggleable\"><input class=\"sk-toggleable__control sk-hidden--visually\" id=\"sk-estimator-id-15\" type=\"checkbox\" ><label for=\"sk-estimator-id-15\" class=\"sk-toggleable__label sk-toggleable__label-arrow\">OneHotEncoder</label><div class=\"sk-toggleable__content\"><pre>OneHotEncoder()</pre></div></div></div></div></div></div></div></div><div class=\"sk-item\"><div class=\"sk-estimator sk-toggleable\"><input class=\"sk-toggleable__control sk-hidden--visually\" id=\"sk-estimator-id-16\" type=\"checkbox\" ><label for=\"sk-estimator-id-16\" class=\"sk-toggleable__label sk-toggleable__label-arrow\">KNeighborsRegressor</label><div class=\"sk-toggleable__content\"><pre>KNeighborsRegressor(leaf_size=5, n_neighbors=6, weights=&#x27;distance&#x27;)</pre></div></div></div></div></div></div></div></div><div class=\"sk-parallel-item\"><div class=\"sk-item\"><div class=\"sk-label-container\"><div class=\"sk-label sk-toggleable\"><input class=\"sk-toggleable__control sk-hidden--visually\" id=\"sk-estimator-id-17\" type=\"checkbox\" ><label for=\"sk-estimator-id-17\" class=\"sk-toggleable__label sk-toggleable__label-arrow\">transformer: PowerTransformer</label><div class=\"sk-toggleable__content\"><pre>PowerTransformer(method=&#x27;box-cox&#x27;)</pre></div></div></div><div class=\"sk-serial\"><div class=\"sk-item\"><div class=\"sk-estimator sk-toggleable\"><input class=\"sk-toggleable__control sk-hidden--visually\" id=\"sk-estimator-id-18\" type=\"checkbox\" ><label for=\"sk-estimator-id-18\" class=\"sk-toggleable__label sk-toggleable__label-arrow\">PowerTransformer</label><div class=\"sk-toggleable__content\"><pre>PowerTransformer(method=&#x27;box-cox&#x27;)</pre></div></div></div></div></div></div></div></div></div></div>"
      ],
      "text/plain": [
       "TransformedTargetRegressor(regressor=Pipeline(steps=[('missing',\n",
       "                                                      ColumnTransformer(remainder='passthrough',\n",
       "                                                                        transformers=[('knnimputer',\n",
       "                                                                                       KNNImputer(missing_values=0,\n",
       "                                                                                                  n_neighbors=3),\n",
       "                                                                                       ['size',\n",
       "                                                                                        'depth_percent',\n",
       "                                                                                        'table_percent',\n",
       "                                                                                        'meas_length',\n",
       "                                                                                        'meas_width',\n",
       "                                                                                        'meas_depth'])])),\n",
       "                                                     ('preprocessing',\n",
       "                                                      ColumnTransformer(transformers=[('pol_std',\n",
       "                                                                                       Pipeline(steps=[('polynom',\n",
       "                                                                                                        P...\n",
       "                                                                                        'knnimputer__meas_depth']),\n",
       "                                                                                      ('scale',\n",
       "                                                                                       Normalizer(),\n",
       "                                                                                       ['knnimputer__size',\n",
       "                                                                                        'knnimputer__depth_percent',\n",
       "                                                                                        'knnimputer__table_percent']),\n",
       "                                                                                      ('onehot',\n",
       "                                                                                       OneHotEncoder(),\n",
       "                                                                                       <sklearn.compose._column_transformer.make_column_selector object at 0x0000022674E862E0>)])),\n",
       "                                                     ('estimator',\n",
       "                                                      KNeighborsRegressor(leaf_size=5,\n",
       "                                                                          n_neighbors=6,\n",
       "                                                                          weights='distance'))]),\n",
       "                           transformer=PowerTransformer(method='box-cox'))"
      ]
     },
     "execution_count": 12,
     "metadata": {},
     "output_type": "execute_result"
    }
   ],
   "source": [
    "model_pipe_with_transformed_Y.fit(X, y)"
   ]
  },
  {
   "cell_type": "code",
   "execution_count": 13,
   "metadata": {},
   "outputs": [],
   "source": [
    "# Блок предсказания с использованием тестового набора"
   ]
  },
  {
   "cell_type": "code",
   "execution_count": 14,
   "metadata": {},
   "outputs": [
    {
     "data": {
      "text/plain": [
       "array([2111.14645961,  887.50754854, 1791.13092355, ..., 1259.09171333,\n",
       "       2937.03653214, 1592.11738977])"
      ]
     },
     "execution_count": 14,
     "metadata": {},
     "output_type": "execute_result"
    }
   ],
   "source": [
    "final_pred = model_pipe_with_transformed_Y.predict(df_test)\n",
    "final_pred"
   ]
  },
  {
   "cell_type": "code",
   "execution_count": 15,
   "metadata": {},
   "outputs": [],
   "source": [
    "# Название вектора предсказанных значений  y_predict полученого на основании тестового набора\n",
    "y_predict = final_pred"
   ]
  }
 ],
 "metadata": {
  "kernelspec": {
   "display_name": "Python 3 (ipykernel)",
   "language": "python",
   "name": "python3"
  },
  "language_info": {
   "codemirror_mode": {
    "name": "ipython",
    "version": 3
   },
   "file_extension": ".py",
   "mimetype": "text/x-python",
   "name": "python",
   "nbconvert_exporter": "python",
   "pygments_lexer": "ipython3",
   "version": "3.9.1"
  }
 },
 "nbformat": 4,
 "nbformat_minor": 2
}
